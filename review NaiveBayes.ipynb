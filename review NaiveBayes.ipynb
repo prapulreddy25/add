{
 "cells": [
  {
   "cell_type": "code",
   "execution_count": 9,
   "metadata": {},
   "outputs": [
    {
     "name": "stdout",
     "output_type": "stream",
     "text": [
      "positive: 1.0\n",
      "negative: 2.0\n"
     ]
    }
   ],
   "source": [
    "import nltk.classify.util\n",
    "from nltk.classify import NaiveBayesClassifier\n",
    "from nltk.corpus import names\n",
    "def word_feats(words):\n",
    "    return dict([(word,True) for word in words])\n",
    "positive_vocab=['awesome','outstanding','fantastic','good','nice']\n",
    "negative_vocab=['bad','terrible','useless']\n",
    "positive_features=[(word_feats(pos),'pos') for pos in positive_vocab]\n",
    "negative_features=[(word_feats(neg),'neg')for neg in negative_vocab]\n",
    "train_set=negative_features + positive_features\n",
    "classifier= NaiveBayesClassifier.train(train_set)\n",
    "neg=0\n",
    "pos=0\n",
    "sentence='terrible'\n",
    "sentence= sentence.lower()\n",
    "words=sentence.split(' ')\n",
    "for word in words:\n",
    "    classResult=classifier.classify(word_feats(word))\n",
    "    if classResult=='neg':\n",
    "        neg=neg+1\n",
    "    if classResult=='pos':\n",
    "        pos=pos+1\n",
    "print('positive: '+str(float(pos)/len(words)))\n",
    "print('negative: '+str(float(neg)/len(words)))    "
   ]
  },
  {
   "cell_type": "code",
   "execution_count": null,
   "metadata": {},
   "outputs": [],
   "source": []
  },
  {
   "cell_type": "code",
   "execution_count": null,
   "metadata": {},
   "outputs": [],
   "source": []
  }
 ],
 "metadata": {
  "kernelspec": {
   "display_name": "Python 3",
   "language": "python",
   "name": "python3"
  },
  "language_info": {
   "codemirror_mode": {
    "name": "ipython",
    "version": 3
   },
   "file_extension": ".py",
   "mimetype": "text/x-python",
   "name": "python",
   "nbconvert_exporter": "python",
   "pygments_lexer": "ipython3",
   "version": "3.8.5"
  }
 },
 "nbformat": 4,
 "nbformat_minor": 4
}
